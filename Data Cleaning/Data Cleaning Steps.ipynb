{
 "cells": [
  {
   "cell_type": "markdown",
   "id": "75259fa1",
   "metadata": {},
   "source": [
    "# Data Cleaning\n",
    "https://www.miamioh.edu/cads/students/coding-tutorials/python/data-cleaning/index.html"
   ]
  },
  {
   "cell_type": "markdown",
   "id": "dd0f5b45",
   "metadata": {},
   "source": [
    "## Step 1: Understanding the data"
   ]
  },
  {
   "cell_type": "markdown",
   "id": "f30e8520",
   "metadata": {},
   "source": [
    "Before cleaning data, there are a couple of things we would like to know: for example, the dimensions of a dataset, the data type of each variable, perhaps a peek at the first few rows and last few rows of the data (to see what it looks like and confirm it matches our expectations), the name of each variable, etc."
   ]
  },
  {
   "cell_type": "markdown",
   "id": "db81bc7c",
   "metadata": {},
   "source": [
    "df.shape ----- #Check the dimensions of the data sets"
   ]
  },
  {
   "cell_type": "markdown",
   "id": "6e45933a",
   "metadata": {},
   "source": [
    "df.dtypes ----- #Look at the data types of each column"
   ]
  },
  {
   "cell_type": "markdown",
   "id": "8d03a7dd",
   "metadata": {},
   "source": [
    "### Do These match the expected data types for the columns?"
   ]
  },
  {
   "cell_type": "markdown",
   "id": "712c1f27",
   "metadata": {},
   "source": [
    "df.head() ----- #read the first five rows\n"
   ]
  },
  {
   "cell_type": "markdown",
   "id": "86e539e6",
   "metadata": {},
   "source": [
    "df.tail() ----- #read the last five rows\n"
   ]
  },
  {
   "cell_type": "markdown",
   "id": "3abed9ae",
   "metadata": {},
   "source": [
    "df.columns.values ----- # retuns an array of column names"
   ]
  },
  {
   "cell_type": "markdown",
   "id": "4cd012f8",
   "metadata": {},
   "source": [
    "df.columns.values.tolist() ----- # returns a list of column names"
   ]
  },
  {
   "cell_type": "markdown",
   "id": "4acaf5d8",
   "metadata": {},
   "source": [
    "## Step 2: Check missing values\n",
    "Next, we would like to check if there are any missing values. To check this, we can use the function dataframe.isnull() in pandas. It will return True for missing components and False for non-missing cells. However, when the dimension of a dataset is large, it could be difficult to figure out the existence of missing values. In general, we may just want to know if there are any missing values at all before we try to find where they are. The function dataframe.isnull().values.any() returns True when there is at least one missing value occurring in the data. The function dataframe.isnull().sum().sum() returns the number of missing values in the dataset."
   ]
  },
  {
   "cell_type": "markdown",
   "id": "43623aa4",
   "metadata": {},
   "source": [
    "df.isnull() #Check missing values\n",
    "\n",
    "df.notnull() # Check non missing values\n",
    "\n",
    "df.isnull().values.any() # Check if there is missing values\n",
    "\n",
    "df.isnull().sum() #Check missing by variable for each column\n",
    "\n",
    "df.isnull().sum().sum() #Check how many missing values in data\n",
    "\n",
    "df[df[\"col_1\"].notnull()] # Returns the rows where col_1 is not null\n",
    "\n",
    "df[df[\"col_1\"].notnull()] & df[\"col_2\"].notnull()] #Returns the rows where col_1 and col_2 are not null"
   ]
  },
  {
   "cell_type": "markdown",
   "id": "12766fb7",
   "metadata": {},
   "source": [
    "## Get Information about missing values\n",
    "\n",
    "We could subset the data based on the missing values and create a new data frame to hold all the rows."
   ]
  },
  {
   "cell_type": "markdown",
   "id": "24be4774",
   "metadata": {},
   "source": [
    "no_missing = df.dropna() #drop all rows that has missing values and assign the data to no_missing.\n",
    "\n",
    "no_missing = no_missing.reset_index(drop = True) # This resets the index back to zero.\n",
    "\n",
    "You can also set a threshold of missing values. In the below example it drops rows that contain less than 50 non-missing values.\n",
    "\n",
    "Threshold_missing = df.dropna(thresh = 50) #Find out more on this\n"
   ]
  },
  {
   "cell_type": "markdown",
   "id": "f72f0870",
   "metadata": {},
   "source": [
    "If we use dataframe.dropna(thresh=25) to drop rows that contain less than 25 non-missing values, we don't change the original data. We can assign the output to a new variable or save the changes to the original data right away by using \n",
    "\n",
    "dataframe.dropna(thresh=25, inplace=True). For our example, it would be \n",
    "\n",
    "df.dropna(thresh=25, inplace=True)."
   ]
  },
  {
   "cell_type": "markdown",
   "id": "b6d8a2b7",
   "metadata": {},
   "source": [
    "## Step 4: Fill in Missing Values\n",
    "For quantitative variables, we may replace missing values with the sample mean, mode, median, or other numbers. For categorical variables, we can create a new category for missing values by replacing missing values with a string.\n",
    "\n",
    "Replace missing values with 0."
   ]
  },
  {
   "cell_type": "markdown",
   "id": "aad770ac",
   "metadata": {},
   "source": [
    "fill_no = df.fillna(0)        #Fill in missing with 0 and save the data to fill_no"
   ]
  },
  {
   "cell_type": "markdown",
   "id": "72aa10f3",
   "metadata": {},
   "source": [
    "df['DataFrame Column'] = df['DataFrame Column'].fillna(0)  #fill in missing for a singular column"
   ]
  },
  {
   "cell_type": "markdown",
   "id": "4d214457",
   "metadata": {},
   "source": [
    "fill_no.head()"
   ]
  },
  {
   "cell_type": "markdown",
   "id": "eb2ea58d",
   "metadata": {},
   "source": [
    "Replace all missing with replace missing"
   ]
  },
  {
   "cell_type": "markdown",
   "id": "7c9dc412",
   "metadata": {},
   "source": [
    "df.fillna(\"missing\") # fill in missing with a string: \"missing\" and save the data to Fill_str"
   ]
  },
  {
   "cell_type": "markdown",
   "id": "eef895b2",
   "metadata": {},
   "source": [
    "df[\"col_1\"].fillna(df['col_1'].mean(), inplace = True) # fill missing values with the sample mean"
   ]
  },
  {
   "cell_type": "markdown",
   "id": "d4108e22",
   "metadata": {},
   "source": [
    "## Step 5: Dropping Data\n",
    "We may want to drop duplicate rows if any and save the changes to the original data."
   ]
  },
  {
   "cell_type": "markdown",
   "id": "43b19dfe",
   "metadata": {},
   "source": [
    "\n",
    "df.duplicated().any() ----- #Check for duplicates"
   ]
  },
  {
   "cell_type": "markdown",
   "id": "3ff5f10c",
   "metadata": {},
   "source": [
    "df.duplicated(keep = '') #(Keep = first, last, False) #Check which index has duplicated value"
   ]
  },
  {
   "cell_type": "markdown",
   "id": "b5a06051",
   "metadata": {},
   "source": [
    "df.drop_duplicates(inplace=True)"
   ]
  },
  {
   "cell_type": "markdown",
   "id": "fead7a47",
   "metadata": {},
   "source": [
    "### We also want to drop some observations or some columns."
   ]
  },
  {
   "cell_type": "markdown",
   "id": "7b4e391d",
   "metadata": {},
   "source": [
    "df = df.drop(df.index[[1,2,3]]) #Drop the first second and third row"
   ]
  },
  {
   "cell_type": "markdown",
   "id": "73c2f97a",
   "metadata": {},
   "source": [
    "df = df.drop(df.index[range(1,11)]) #drop the 2nd to 10th row"
   ]
  },
  {
   "cell_type": "markdown",
   "id": "d29c76ad",
   "metadata": {},
   "source": [
    "df = df.drop(['col_1'], axis = 1) # drop the column 1 from the data"
   ]
  },
  {
   "cell_type": "markdown",
   "id": "7b72738c",
   "metadata": {},
   "source": [
    "df = df.drop([['col_1', 'col_3']], axis = 1) # Drop the col_1 and col_3  from the data set"
   ]
  },
  {
   "cell_type": "markdown",
   "id": "2f479adf",
   "metadata": {},
   "source": [
    "## Step 6: Subsetting\n",
    "iloc stands for integer location. It helps subset data by using integers. It’s counterpart loc uses strings to find data within your data set."
   ]
  },
  {
   "cell_type": "markdown",
   "id": "c91c1243",
   "metadata": {},
   "source": [
    "df.iloc[0] # Show the first row of information\n",
    "\n",
    "df.iloc[[0, 1, 2]] # Show the first, second, and third row\n",
    "\n",
    "df.iloc[:,0] #print the first column\n",
    "\n",
    "df.iloc[:,0:5] #print the first five column\n",
    "\n",
    "df.iloc[0:5, 0:3] # a subset of the first 3 columns and 5 rows\n",
    "\n",
    "df.loc[0] # show the first row\n",
    "\n",
    "df[['col_1', 'col_3', 'col_4']] #Subset of col_1, col_3 and col_4\n",
    "\n",
    "df.sample(n=100) #Random sample of 100 rows\n",
    "\n",
    "df.sample(frac=0.1, replace=True) # A random sample of 10% of the data \n",
    "with replacement"
   ]
  },
  {
   "cell_type": "code",
   "execution_count": null,
   "id": "20f24e9f",
   "metadata": {},
   "outputs": [],
   "source": []
  }
 ],
 "metadata": {
  "kernelspec": {
   "display_name": "Python 3 (ipykernel)",
   "language": "python",
   "name": "python3"
  },
  "language_info": {
   "codemirror_mode": {
    "name": "ipython",
    "version": 3
   },
   "file_extension": ".py",
   "mimetype": "text/x-python",
   "name": "python",
   "nbconvert_exporter": "python",
   "pygments_lexer": "ipython3",
   "version": "3.7.2"
  }
 },
 "nbformat": 4,
 "nbformat_minor": 5
}
