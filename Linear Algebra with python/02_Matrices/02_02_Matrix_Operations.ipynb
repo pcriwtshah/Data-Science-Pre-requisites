{
  "nbformat": 4,
  "nbformat_minor": 0,
  "metadata": {
    "colab": {
      "name": "Matrix Operations.ipynb",
      "provenance": []
    },
    "kernelspec": {
      "name": "python3",
      "display_name": "Python 3"
    },
    "language_info": {
      "name": "python"
    }
  },
  "cells": [
    {
      "cell_type": "markdown",
      "source": [
        "Basic matrix operation using numpy: \\\n",
        "\n",
        "add() − add elements of two matrices.\n",
        "\n",
        "subtract() − subtract elements of two matrices.\n",
        "\n",
        "divide() − divide elements of two matrices; This is not matrix division\n",
        "\n",
        "multiply() − multiply elements of two matrices.\n",
        "\n",
        "dot() − It performs matrix multiplication, not element wise multiplication; notice difference between multiply and dot; Don't be confused with inner product of vectors\n",
        "\n",
        "sqrt() − square root of each element of matrix.\n",
        "\n",
        "sum(x,axis) − add to all the elements in matrix. Second argument is optional, it is used when we want to compute the column sum if axis is 0 and row sum if axis is 1.\n",
        "\n",
        "“T” − It performs transpose of the specified matrix.\n",
        "\n",
        "linalg.det() - calculates the determinant of a matrix\n",
        "\n",
        "Rank\n",
        "\n",
        "Trace\n",
        "\n",
        "Inverse and pseudo-inverse\n",
        "\n",
        "Flatten\n",
        "\n",
        "Eigenvlues and Eigenvectors"
      ],
      "metadata": {
        "id": "brcutH9sDMS3"
      }
    },
    {
      "cell_type": "code",
      "execution_count": 2,
      "metadata": {
        "id": "AIcStgP9DLVu"
      },
      "outputs": [],
      "source": [
        "import numpy as np"
      ]
    },
    {
      "cell_type": "code",
      "source": [
        "A = [[1, 2], [3, 4]]\n",
        "A, type(A)"
      ],
      "metadata": {
        "colab": {
          "base_uri": "https://localhost:8080/"
        },
        "id": "993VfM0xEO0b",
        "outputId": "653d0153-7f34-4986-eff4-3a730edbf754"
      },
      "execution_count": 5,
      "outputs": [
        {
          "output_type": "execute_result",
          "data": {
            "text/plain": [
              "([[1, 2], [3, 4]], list)"
            ]
          },
          "metadata": {},
          "execution_count": 5
        }
      ]
    },
    {
      "cell_type": "markdown",
      "source": [
        "Here A is a list. It needs to be in array for matrix operations.\n",
        "Convert list A to an array A"
      ],
      "metadata": {
        "id": "ca0IeU1TOQMJ"
      }
    },
    {
      "cell_type": "code",
      "source": [
        "A = np.array([[1, 2], [3, 4]])\n",
        "A, type(A)"
      ],
      "metadata": {
        "colab": {
          "base_uri": "https://localhost:8080/"
        },
        "id": "JI39-iWHE0nX",
        "outputId": "d30f7ac5-c017-4fbd-df31-4fa83ff51b8d"
      },
      "execution_count": 3,
      "outputs": [
        {
          "output_type": "execute_result",
          "data": {
            "text/plain": [
              "(array([[1, 2],\n",
              "        [3, 4]]), numpy.ndarray)"
            ]
          },
          "metadata": {},
          "execution_count": 3
        }
      ]
    },
    {
      "cell_type": "markdown",
      "source": [
        "Let's create another matrix B and C."
      ],
      "metadata": {
        "id": "ZC4qGOWYPFrY"
      }
    },
    {
      "cell_type": "code",
      "source": [
        "B = np.array([[5, 6], [7, 8]])\n",
        "B"
      ],
      "metadata": {
        "colab": {
          "base_uri": "https://localhost:8080/"
        },
        "id": "S6dD7E-eEVXj",
        "outputId": "d741a426-dd0f-42b1-d6cf-d57e5018b4dd"
      },
      "execution_count": 14,
      "outputs": [
        {
          "output_type": "execute_result",
          "data": {
            "text/plain": [
              "array([[5, 6],\n",
              "       [7, 8]])"
            ]
          },
          "metadata": {},
          "execution_count": 14
        }
      ]
    },
    {
      "cell_type": "code",
      "source": [
        "C = np.array([[1, 2, 3], [4, 5, 6]])\n",
        "C"
      ],
      "metadata": {
        "colab": {
          "base_uri": "https://localhost:8080/"
        },
        "id": "kaFveCOtF-BU",
        "outputId": "36fb4ce3-dad3-4dbc-e304-825e0a40eaa4"
      },
      "execution_count": 17,
      "outputs": [
        {
          "output_type": "execute_result",
          "data": {
            "text/plain": [
              "array([[1, 2, 3],\n",
              "       [4, 5, 6]])"
            ]
          },
          "metadata": {},
          "execution_count": 17
        }
      ]
    },
    {
      "cell_type": "markdown",
      "source": [
        "Dtermine the shape of a matrix A, B, and C"
      ],
      "metadata": {
        "id": "DV1JaZ0RPoBE"
      }
    },
    {
      "cell_type": "code",
      "source": [
        "np.shape(A), np.shape(B), np.shape(C)"
      ],
      "metadata": {
        "colab": {
          "base_uri": "https://localhost:8080/"
        },
        "id": "rjRdkHjGGsKE",
        "outputId": "06cc3a92-10cf-4f64-a6fc-a2696b1258f6"
      },
      "execution_count": 25,
      "outputs": [
        {
          "output_type": "execute_result",
          "data": {
            "text/plain": [
              "((2, 2), (2, 2), (2, 3))"
            ]
          },
          "metadata": {},
          "execution_count": 25
        }
      ]
    },
    {
      "cell_type": "markdown",
      "source": [
        "Adding two matrix with same shape. A + B"
      ],
      "metadata": {
        "id": "QoUztcl2PPCU"
      }
    },
    {
      "cell_type": "code",
      "source": [
        "add_matrix = np.add(A, B)\n",
        "add_matrix"
      ],
      "metadata": {
        "colab": {
          "base_uri": "https://localhost:8080/"
        },
        "id": "WLPRaq17Eako",
        "outputId": "587b2a7d-ab4a-4455-8ede-07953d60e025"
      },
      "execution_count": 13,
      "outputs": [
        {
          "output_type": "execute_result",
          "data": {
            "text/plain": [
              "array([[ 6,  8],\n",
              "       [10, 12]])"
            ]
          },
          "metadata": {},
          "execution_count": 13
        }
      ]
    },
    {
      "cell_type": "markdown",
      "source": [
        "Subtracting two matrix with same shape. A - B\n"
      ],
      "metadata": {
        "id": "GL6gGiMfP9-9"
      }
    },
    {
      "cell_type": "code",
      "source": [
        "sub_matrix1 = np.subtract(A, B)\n",
        "sub_matrix1"
      ],
      "metadata": {
        "colab": {
          "base_uri": "https://localhost:8080/"
        },
        "id": "YsKpYT3ZEhQf",
        "outputId": "bea4bbb0-41b1-4104-e92a-f4fd2262baac"
      },
      "execution_count": 16,
      "outputs": [
        {
          "output_type": "execute_result",
          "data": {
            "text/plain": [
              "array([[-4, -4],\n",
              "       [-4, -4]])"
            ]
          },
          "metadata": {},
          "execution_count": 16
        }
      ]
    },
    {
      "cell_type": "markdown",
      "source": [
        "Subtracting two matrix with same shape. B - A\n"
      ],
      "metadata": {
        "id": "hmF3y4iUQfaM"
      }
    },
    {
      "cell_type": "code",
      "source": [
        "sub_matrix2 = np.subtract(B, A)\n",
        "sub_matrix2"
      ],
      "metadata": {
        "colab": {
          "base_uri": "https://localhost:8080/"
        },
        "id": "B5wRfXp6FgfF",
        "outputId": "0298e8f2-db39-4c0a-96ef-8a2152ddd147"
      },
      "execution_count": 17,
      "outputs": [
        {
          "output_type": "execute_result",
          "data": {
            "text/plain": [
              "array([[4, 4],\n",
              "       [4, 4]])"
            ]
          },
          "metadata": {},
          "execution_count": 17
        }
      ]
    },
    {
      "cell_type": "markdown",
      "source": [
        "If you subtract matrix from itself, you get null matrix. See in this example B - B"
      ],
      "metadata": {
        "id": "PxPXBpRbQtK9"
      }
    },
    {
      "cell_type": "code",
      "source": [
        "sub_matrix3 = np.subtract(B, B)\n",
        "sub_matrix3"
      ],
      "metadata": {
        "colab": {
          "base_uri": "https://localhost:8080/"
        },
        "id": "XqocOIPHFsqs",
        "outputId": "f91b311e-840a-413d-cbbe-6033857d9cc9"
      },
      "execution_count": 18,
      "outputs": [
        {
          "output_type": "execute_result",
          "data": {
            "text/plain": [
              "array([[0, 0],\n",
              "       [0, 0]])"
            ]
          },
          "metadata": {},
          "execution_count": 18
        }
      ]
    },
    {
      "cell_type": "markdown",
      "source": [
        "np.multiply doesn't give the product of two matrices. instead it is used to multiply corresponding elrmrnts."
      ],
      "metadata": {
        "id": "9dBhMPuzQ7NJ"
      }
    },
    {
      "cell_type": "code",
      "source": [
        "mul_matrix1 = np.multiply(A, B)\n",
        "mul_matrix1"
      ],
      "metadata": {
        "colab": {
          "base_uri": "https://localhost:8080/"
        },
        "id": "866Y6N-LFyhB",
        "outputId": "55e81658-ce83-403d-c5b8-e80b16531ebb"
      },
      "execution_count": 21,
      "outputs": [
        {
          "output_type": "execute_result",
          "data": {
            "text/plain": [
              "array([[ 5, 12],\n",
              "       [21, 32]])"
            ]
          },
          "metadata": {},
          "execution_count": 21
        }
      ]
    },
    {
      "cell_type": "markdown",
      "source": [
        "If dimensions of matrices don;t match, you cannot multiply. See below"
      ],
      "metadata": {
        "id": "0HUpkFHfRNTC"
      }
    },
    {
      "cell_type": "code",
      "source": [
        "mul_matrix2 = np.multiply(A, C)\n",
        "mul_matrix2"
      ],
      "metadata": {
        "colab": {
          "base_uri": "https://localhost:8080/",
          "height": 190
        },
        "id": "BRRrRhjpGndh",
        "outputId": "aec2f2e8-0e6d-4554-af19-480eed4cb7a5"
      },
      "execution_count": 23,
      "outputs": [
        {
          "output_type": "error",
          "ename": "ValueError",
          "evalue": "ignored",
          "traceback": [
            "\u001b[0;31m---------------------------------------------------------------------------\u001b[0m",
            "\u001b[0;31mValueError\u001b[0m                                Traceback (most recent call last)",
            "\u001b[0;32m<ipython-input-23-337302dec3e8>\u001b[0m in \u001b[0;36m<module>\u001b[0;34m()\u001b[0m\n\u001b[0;32m----> 1\u001b[0;31m \u001b[0mmul_matrix2\u001b[0m \u001b[0;34m=\u001b[0m \u001b[0mnp\u001b[0m\u001b[0;34m.\u001b[0m\u001b[0mmultiply\u001b[0m\u001b[0;34m(\u001b[0m\u001b[0mA\u001b[0m\u001b[0;34m,\u001b[0m \u001b[0mC\u001b[0m\u001b[0;34m)\u001b[0m\u001b[0;34m\u001b[0m\u001b[0;34m\u001b[0m\u001b[0m\n\u001b[0m\u001b[1;32m      2\u001b[0m \u001b[0mmul_matrix2\u001b[0m\u001b[0;34m\u001b[0m\u001b[0;34m\u001b[0m\u001b[0m\n",
            "\u001b[0;31mValueError\u001b[0m: operands could not be broadcast together with shapes (2,2) (2,3) "
          ]
        }
      ]
    },
    {
      "cell_type": "markdown",
      "source": [
        "Two matrices are multiplied below"
      ],
      "metadata": {
        "id": "ytFQIFfeRdrW"
      }
    },
    {
      "cell_type": "code",
      "source": [
        "mul_matrix3 = np.dot(A, B)\n",
        "mul_matrix3"
      ],
      "metadata": {
        "colab": {
          "base_uri": "https://localhost:8080/"
        },
        "id": "dVlKC0P2G3pB",
        "outputId": "25f6ba08-d09f-4dae-cd51-0cc56b8b186b"
      },
      "execution_count": 26,
      "outputs": [
        {
          "output_type": "execute_result",
          "data": {
            "text/plain": [
              "array([[19, 22],\n",
              "       [43, 50]])"
            ]
          },
          "metadata": {},
          "execution_count": 26
        }
      ]
    },
    {
      "cell_type": "markdown",
      "source": [
        "Calculate the determinant of a matrix"
      ],
      "metadata": {
        "id": "GQTR0-QpU7Sa"
      }
    },
    {
      "cell_type": "code",
      "source": [
        "det_A = np.linalg.det(A)\n",
        "np.round(det_A)"
      ],
      "metadata": {
        "colab": {
          "base_uri": "https://localhost:8080/"
        },
        "id": "uqyalX7LJ9We",
        "outputId": "07333fd0-d4c2-47dd-c4c2-e87f5477f285"
      },
      "execution_count": 28,
      "outputs": [
        {
          "output_type": "execute_result",
          "data": {
            "text/plain": [
              "-2.0"
            ]
          },
          "metadata": {},
          "execution_count": 28
        }
      ]
    },
    {
      "cell_type": "markdown",
      "source": [
        "Transpose of a matrix A"
      ],
      "metadata": {
        "id": "j8Uzf4D5WY6q"
      }
    },
    {
      "cell_type": "code",
      "source": [
        "A.T"
      ],
      "metadata": {
        "colab": {
          "base_uri": "https://localhost:8080/"
        },
        "id": "ZaeksghfKhp4",
        "outputId": "d7f4a8f6-fead-40cc-f6df-924bca66bc19"
      },
      "execution_count": 38,
      "outputs": [
        {
          "output_type": "execute_result",
          "data": {
            "text/plain": [
              "array([[1, 3],\n",
              "       [2, 4]])"
            ]
          },
          "metadata": {},
          "execution_count": 38
        }
      ]
    },
    {
      "cell_type": "markdown",
      "source": [
        "The rank of a matrix is the dimensions of the vector space spanned (generated) by its columns or rows."
      ],
      "metadata": {
        "id": "tzX5tgYYLYHX"
      }
    },
    {
      "cell_type": "code",
      "source": [
        "np.linalg.matrix_rank(A)"
      ],
      "metadata": {
        "colab": {
          "base_uri": "https://localhost:8080/"
        },
        "id": "1Zh42dLKVvmI",
        "outputId": "01d60fab-a2f7-4d09-b695-2903003e55c6"
      },
      "execution_count": 8,
      "outputs": [
        {
          "output_type": "execute_result",
          "data": {
            "text/plain": [
              "2"
            ]
          },
          "metadata": {},
          "execution_count": 8
        }
      ]
    },
    {
      "cell_type": "markdown",
      "source": [
        "The trace of a matrix is the sum of its diagonal elements."
      ],
      "metadata": {
        "id": "e0MkWRESLhYU"
      }
    },
    {
      "cell_type": "code",
      "source": [
        "np.trace(A)"
      ],
      "metadata": {
        "colab": {
          "base_uri": "https://localhost:8080/"
        },
        "id": "hrbhnuECKaPU",
        "outputId": "25c45fdc-1dbe-4c50-adba-545ff4ded4d6"
      },
      "execution_count": 9,
      "outputs": [
        {
          "output_type": "execute_result",
          "data": {
            "text/plain": [
              "5"
            ]
          },
          "metadata": {},
          "execution_count": 9
        }
      ]
    },
    {
      "cell_type": "markdown",
      "source": [
        "If A.B = I (Iidentity matrix - matrix with diangonal elements 1 and non diangonal elements zero), then B is inverse of A."
      ],
      "metadata": {
        "id": "QxPsrkLqMZ6y"
      }
    },
    {
      "cell_type": "code",
      "source": [
        "D = np.linalg.inv(A)\n",
        "D"
      ],
      "metadata": {
        "colab": {
          "base_uri": "https://localhost:8080/"
        },
        "id": "NbCqpBrwLsMD",
        "outputId": "9319da04-8a23-4df7-8308-e40aa0b5b5bc"
      },
      "execution_count": 12,
      "outputs": [
        {
          "output_type": "execute_result",
          "data": {
            "text/plain": [
              "array([[-2. ,  1. ],\n",
              "       [ 1.5, -0.5]])"
            ]
          },
          "metadata": {},
          "execution_count": 12
        }
      ]
    },
    {
      "cell_type": "markdown",
      "source": [
        "Generally, there is no inverse of a singular matrix (whose determinant is zero). But for computational problems, we need to calculate pseudo inverse to avoid error."
      ],
      "metadata": {
        "id": "xXFuOO1SOsMs"
      }
    },
    {
      "cell_type": "code",
      "source": [
        "D = np.array([[2,8], [1, 4]])\n",
        "np.linalg.pinv(D)"
      ],
      "metadata": {
        "colab": {
          "base_uri": "https://localhost:8080/"
        },
        "id": "QsRjV_WxPP3n",
        "outputId": "df586154-d5be-4c72-c0cc-ef62039cdc6c"
      },
      "execution_count": 21,
      "outputs": [
        {
          "output_type": "execute_result",
          "data": {
            "text/plain": [
              "array([[0.02352941, 0.01176471],\n",
              "       [0.09411765, 0.04705882]])"
            ]
          },
          "metadata": {},
          "execution_count": 21
        }
      ]
    },
    {
      "cell_type": "code",
      "source": [
        "np.dot(A, D)"
      ],
      "metadata": {
        "colab": {
          "base_uri": "https://localhost:8080/"
        },
        "id": "PILRu3QTLzLS",
        "outputId": "21ab7e84-be9b-4afa-f8de-73860850121e"
      },
      "execution_count": 13,
      "outputs": [
        {
          "output_type": "execute_result",
          "data": {
            "text/plain": [
              "array([[1.0000000e+00, 0.0000000e+00],\n",
              "       [8.8817842e-16, 1.0000000e+00]])"
            ]
          },
          "metadata": {},
          "execution_count": 13
        }
      ]
    },
    {
      "cell_type": "markdown",
      "source": [
        "A.flatten() will convert nXm array into one dimensional array."
      ],
      "metadata": {
        "id": "yf_UG87FOMHw"
      }
    },
    {
      "cell_type": "code",
      "source": [
        "C.flatten()"
      ],
      "metadata": {
        "colab": {
          "base_uri": "https://localhost:8080/"
        },
        "id": "FZCdQ_HBM_zN",
        "outputId": "3d70095c-20da-46c1-de1f-1f08f39b968f"
      },
      "execution_count": 18,
      "outputs": [
        {
          "output_type": "execute_result",
          "data": {
            "text/plain": [
              "array([1, 2, 3, 4, 5, 6])"
            ]
          },
          "metadata": {},
          "execution_count": 18
        }
      ]
    },
    {
      "cell_type": "markdown",
      "source": [
        "Let T be an n x n matrix. A scalar λ is called an eigenvalue of T if there is a non-zero vector v satisfying the following equation.\n",
        "\n",
        "                      Tv = λv\n",
        "\n",
        "where v is eigenvector of T corresponding of λ.\n",
        "\n"
      ],
      "metadata": {
        "id": "D2baRdVsPL05"
      }
    },
    {
      "cell_type": "code",
      "source": [
        "w, v = np.linalg.eig(A)\n",
        "w, v"
      ],
      "metadata": {
        "colab": {
          "base_uri": "https://localhost:8080/"
        },
        "id": "rfV8ZaHgN0D-",
        "outputId": "b92c74fa-7f96-4558-90f8-d9d275d300ec"
      },
      "execution_count": 4,
      "outputs": [
        {
          "output_type": "execute_result",
          "data": {
            "text/plain": [
              "(array([-0.37228132,  5.37228132]), array([[-0.82456484, -0.41597356],\n",
              "        [ 0.56576746, -0.90937671]]))"
            ]
          },
          "metadata": {},
          "execution_count": 4
        }
      ]
    },
    {
      "cell_type": "code",
      "source": [
        ""
      ],
      "metadata": {
        "id": "_ZEVxOO2QzZC"
      },
      "execution_count": null,
      "outputs": []
    },
    {
      "cell_type": "markdown",
      "source": [
        "The eigenvalue is w"
      ],
      "metadata": {
        "id": "oWVvFwLPRDMG"
      }
    },
    {
      "cell_type": "code",
      "source": [
        "w"
      ],
      "metadata": {
        "colab": {
          "base_uri": "https://localhost:8080/"
        },
        "id": "rOWV4pdhRGmc",
        "outputId": "17e9d31f-c578-41c5-92fe-452ea26e163e"
      },
      "execution_count": 5,
      "outputs": [
        {
          "output_type": "execute_result",
          "data": {
            "text/plain": [
              "array([-0.37228132,  5.37228132])"
            ]
          },
          "metadata": {},
          "execution_count": 5
        }
      ]
    },
    {
      "cell_type": "markdown",
      "source": [
        "The eigenvector is v"
      ],
      "metadata": {
        "id": "eMcF41B9RJF_"
      }
    },
    {
      "cell_type": "code",
      "source": [
        "v"
      ],
      "metadata": {
        "colab": {
          "base_uri": "https://localhost:8080/"
        },
        "id": "0GYDa88mRHbA",
        "outputId": "e8d53e86-d7e3-4828-97ef-2e1b5d8708f7"
      },
      "execution_count": 6,
      "outputs": [
        {
          "output_type": "execute_result",
          "data": {
            "text/plain": [
              "array([[-0.82456484, -0.41597356],\n",
              "       [ 0.56576746, -0.90937671]])"
            ]
          },
          "metadata": {},
          "execution_count": 6
        }
      ]
    },
    {
      "cell_type": "code",
      "source": [
        "sum(w)"
      ],
      "metadata": {
        "colab": {
          "base_uri": "https://localhost:8080/"
        },
        "id": "b2EDqbPQRPCp",
        "outputId": "8b66d377-67ad-46f5-abc5-2fb8e0cb7afd"
      },
      "execution_count": 7,
      "outputs": [
        {
          "output_type": "execute_result",
          "data": {
            "text/plain": [
              "5.0"
            ]
          },
          "metadata": {},
          "execution_count": 7
        }
      ]
    },
    {
      "cell_type": "code",
      "source": [
        "np.trace(A)"
      ],
      "metadata": {
        "colab": {
          "base_uri": "https://localhost:8080/"
        },
        "id": "bW6iFXUKReKI",
        "outputId": "90f2268c-9ff6-49f0-8e81-44e48c159526"
      },
      "execution_count": 8,
      "outputs": [
        {
          "output_type": "execute_result",
          "data": {
            "text/plain": [
              "5"
            ]
          },
          "metadata": {},
          "execution_count": 8
        }
      ]
    },
    {
      "cell_type": "markdown",
      "source": [
        "The sum of eigenvalues (-0.37 + 5.37 = 5) is equal to the trace (1 + 4 = 5) of the same matrix! The product of the eigenvalues (-0.37*5.37=-2) is equal to the determinant (-2) of the same matrix!"
      ],
      "metadata": {
        "id": "eKIlXd3fR0DM"
      }
    },
    {
      "cell_type": "markdown",
      "source": [
        "Eigenvalues and eigenvectors are extremely useful in the Principal Component Analysis (PCA). In PCA, the eigenvectors of the correlation or covariance matrix represent the principal components (the directions of maximum variance) and the corresponding eigenvalues represent the amount of variation explained by each principal component."
      ],
      "metadata": {
        "id": "gLa7QlHkSvWi"
      }
    },
    {
      "cell_type": "code",
      "source": [
        ""
      ],
      "metadata": {
        "id": "mZnoUEUgSwYv"
      },
      "execution_count": null,
      "outputs": []
    }
  ]
}